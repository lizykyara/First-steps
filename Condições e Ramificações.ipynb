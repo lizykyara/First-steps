{
 "cells": [
  {
   "cell_type": "markdown",
   "id": "7e726988",
   "metadata": {},
   "source": [
    "## Condições e Ramificações"
   ]
  },
  {
   "cell_type": "markdown",
   "id": "d1b14387",
   "metadata": {},
   "source": [
    "### Operador de igualdade"
   ]
  },
  {
   "cell_type": "markdown",
   "id": "d80f926e",
   "metadata": {},
   "source": [
    "Operador de igualdade verifica se os valores são iguais.\n",
    "Por exemplo:"
   ]
  },
  {
   "cell_type": "code",
   "execution_count": 15,
   "id": "ecd7bfc5",
   "metadata": {},
   "outputs": [
    {
     "name": "stdout",
     "output_type": "stream",
     "text": [
      "Você tem 25 anos\n"
     ]
    }
   ],
   "source": [
    "age = 25 \n",
    "if age == 25:\n",
    "    print(\"Você tem 25 anos\")"
   ]
  },
  {
   "cell_type": "markdown",
   "id": "2244820e",
   "metadata": {},
   "source": [
    "### Operador de desiguldade"
   ]
  },
  {
   "cell_type": "markdown",
   "id": "bb275db5",
   "metadata": {},
   "source": [
    "O operador de desigualdade != verifica se dois valores não são iguais.\n",
    "\n",
    "Exemplo:"
   ]
  },
  {
   "cell_type": "code",
   "execution_count": 18,
   "id": "6cafd76e",
   "metadata": {},
   "outputs": [
    {
     "name": "stdout",
     "output_type": "stream",
     "text": [
      "Você não tem 30 anos\n"
     ]
    }
   ],
   "source": [
    "if age != 30:\n",
    "    print(\"Você não tem 30 anos\")"
   ]
  },
  {
   "cell_type": "markdown",
   "id": "24bffd28",
   "metadata": {},
   "source": [
    "### Maior que e menor que"
   ]
  },
  {
   "cell_type": "markdown",
   "id": "31fa92cb",
   "metadata": {},
   "source": [
    "Compara se um valor é menor que o outro.\n",
    "\n",
    "Exemplo:"
   ]
  },
  {
   "cell_type": "code",
   "execution_count": 19,
   "id": "c1f60278",
   "metadata": {},
   "outputs": [
    {
     "name": "stdout",
     "output_type": "stream",
     "text": [
      "Sim, sua idade é maior que 20\n"
     ]
    }
   ],
   "source": [
    "if age >= 20:\n",
    "    print(\"Sim, sua idade é maior que 20\")"
   ]
  },
  {
   "cell_type": "markdown",
   "id": "85c69f12",
   "metadata": {},
   "source": [
    "# Ramificação"
   ]
  },
  {
   "cell_type": "markdown",
   "id": "e1390fa6",
   "metadata": {},
   "source": [
    "Em um cenário que você é o professor e precisa classificar as notas dos alunos. Considere as seguintes condições:\n",
    "\n",
    "* Se a nota do aluno for maior ou igual a 90 ele irá receber a classificação \"A\".\n",
    "* Se a nota do aluno estiver entre 80 e 89, ele receberá a classificação \"B\".\n",
    "* Se a nota do aluno estiver entre 70 e 79, ele irá receber a classifação \"C\".\n",
    "* Se a nota do aluno estiver entre 60 e 69, ele irá receber a classifcação \"D\".\n",
    "* Se a nota do aluno for menor que 60 ele irá receber a classificação \"F\".\n"
   ]
  },
  {
   "cell_type": "code",
   "execution_count": 47,
   "id": "e9cff065",
   "metadata": {},
   "outputs": [
    {
     "name": "stdout",
     "output_type": "stream",
     "text": [
      "Você tirou um F, estude mais!\n"
     ]
    }
   ],
   "source": [
    "nota_final = 56\n",
    "if nota_final >= 90:\n",
    "    print(\"Parabéns, você tirou A\")\n",
    "elif nota_final >80 and nota_final <= 89:\n",
    "    print(\"Você tirou B\")\n",
    "elif nota_final >=70 and nota_final <= 79:\n",
    "    print(\"Você tirou C\") \n",
    "elif nota_final >= 60 and nota_final <=69:\n",
    "    print(\"Você tirou D\")\n",
    "else:\n",
    "    nota_final <= 60\n",
    "    print(\"Você tirou um F, estude mais!\")\n",
    "    "
   ]
  },
  {
   "cell_type": "markdown",
   "id": "bf4cdf5a",
   "metadata": {},
   "source": [
    "## Operadores Lógicos "
   ]
  },
  {
   "cell_type": "markdown",
   "id": "ca3c8299",
   "metadata": {},
   "source": [
    "Os operadores lógicos ajudam a combinar e manipular condições. \n",
    "### Operador NÃO\n",
    "O operador NOT nega uma condição\n",
    "\n",
    "### Operador AND\n",
    "O operador AND verifica se todas as condições exigidas são verdadeiras.\n",
    "\n",
    "### Operador OU\n",
    "O operador OR verifica se pelo menos uma condição é verdadeira."
   ]
  },
  {
   "cell_type": "markdown",
   "id": "dbffc4b9",
   "metadata": {},
   "source": [
    "#### Situação: Sistema de Descontos em uma Loja"
   ]
  },
  {
   "cell_type": "markdown",
   "id": "05a780c4",
   "metadata": {},
   "source": [
    "Em um cenário que você está aplicando sistemas de descontos, considere as seguintes cindições:"
   ]
  },
  {
   "cell_type": "markdown",
   "id": "f5fd8102",
   "metadata": {},
   "source": [
    "* Se o cliente é um membro do programa de fidelidade e o valor total da compra é maior que 100 unidades monetárias, ele recebe um desconto de 15%.\n",
    "* Se o cliente é um membro do programa de fidelidade e o valor total da compra é menor que 100 unidades monetárias, ele recebe um desconto de 10%\n",
    "* Se o cliente não é um membro do programa de fidelidade, mas o valor total da compra é maior que 200 unidades monetárias, ele recebe um desconto de 5%."
   ]
  },
  {
   "cell_type": "code",
   "execution_count": 40,
   "id": "75e16b26",
   "metadata": {},
   "outputs": [
    {
     "name": "stdout",
     "output_type": "stream",
     "text": [
      "Sem descontos, vamos fazer o fidelidade?\n"
     ]
    }
   ],
   "source": [
    "valor_compra = 40\n",
    "membro_fidelidade = False\n",
    "\n",
    "if membro_fidelidade and valor_compra > 100:\n",
    "    print(\"Desconto de 15%\") \n",
    "    \n",
    "elif membro_fidelidade and valor_compra <= 100:\n",
    "       print(\"Desconto de 10%\") \n",
    "\n",
    "elif not membro_fidelidade and valor_compra > 200:\n",
    "       print(\"Desconto de 5%, vamos fazer o fidelidade?\") \n",
    "else:\n",
    "    print(\"Sem descontos, vamos fazer o fidelidade?\")"
   ]
  },
  {
   "cell_type": "markdown",
   "id": "b334eb85",
   "metadata": {},
   "source": [
    "## Autor"
   ]
  },
  {
   "cell_type": "markdown",
   "id": "2a432efb",
   "metadata": {},
   "source": [
    "## Lizy Kyara"
   ]
  },
  {
   "cell_type": "code",
   "execution_count": null,
   "id": "47a994a2",
   "metadata": {},
   "outputs": [],
   "source": []
  }
 ],
 "metadata": {
  "kernelspec": {
   "display_name": "Python 3 (ipykernel)",
   "language": "python",
   "name": "python3"
  },
  "language_info": {
   "codemirror_mode": {
    "name": "ipython",
    "version": 3
   },
   "file_extension": ".py",
   "mimetype": "text/x-python",
   "name": "python",
   "nbconvert_exporter": "python",
   "pygments_lexer": "ipython3",
   "version": "3.11.5"
  }
 },
 "nbformat": 4,
 "nbformat_minor": 5
}
