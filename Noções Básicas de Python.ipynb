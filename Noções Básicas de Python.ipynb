{
 "cells": [
  {
   "cell_type": "markdown",
   "id": "d18c0c49",
   "metadata": {},
   "source": [
    "# Noções Básicas de Python"
   ]
  },
  {
   "cell_type": "markdown",
   "id": "08460d9d",
   "metadata": {},
   "source": [
    "### Comentários   "
   ]
  },
  {
   "cell_type": "markdown",
   "id": "8f4c2b8a",
   "metadata": {},
   "source": [
    "Comentários são linhas de texto que são ignoradas pelo interpretador Python ao executar o código. \n",
    "\n",
    "\n",
    "\n",
    "Exemplo: #Isso é um comentário"
   ]
  },
  {
   "cell_type": "markdown",
   "id": "11bde4b5",
   "metadata": {},
   "source": [
    "### Concatenação"
   ]
  },
  {
   "cell_type": "markdown",
   "id": "ab126bea",
   "metadata": {},
   "source": [
    "É o processo de combinar duas ou mais strings em uma única string. Em Python, a concatenação de strings é feita usando o operador de adição (+).\n",
    "\n",
    "Exemplo: "
   ]
  },
  {
   "cell_type": "code",
   "execution_count": 3,
   "id": "829a3edb",
   "metadata": {},
   "outputs": [
    {
     "name": "stdout",
     "output_type": "stream",
     "text": [
      "OláMundo\n"
     ]
    }
   ],
   "source": [
    "string1 = \"Olá\"\n",
    "string2 = \"Mundo\"\n",
    "concatenated_string = string1 + string2\n",
    "print(concatenated_string)"
   ]
  },
  {
   "cell_type": "markdown",
   "id": "ff02b09e",
   "metadata": {},
   "source": [
    "Se você quiser adicionar um espaço entre as strings que está concatenando, basta incluir um espaço em branco dentro das aspas.\n",
    "\n",
    "\n",
    "Por exemplo:"
   ]
  },
  {
   "cell_type": "code",
   "execution_count": 4,
   "id": "367d4511",
   "metadata": {},
   "outputs": [
    {
     "name": "stdout",
     "output_type": "stream",
     "text": [
      "Olá Mundo\n"
     ]
    }
   ],
   "source": [
    "string1 = \"Olá\"\n",
    "string2 = \"Mundo\"\n",
    "concatenated_string = string1 + \" \" + string2\n",
    "print(concatenated_string)"
   ]
  },
  {
   "cell_type": "markdown",
   "id": "92a517c6",
   "metadata": {},
   "source": [
    "### Tipos de dados"
   ]
  },
  {
   "cell_type": "markdown",
   "id": "b73e404c",
   "metadata": {},
   "source": [
    "| Inteiro | Flutuante | Booleano | String |\n",
    "|---------|-----------|----------|--------|\n",
    "|10, -5, 0|3.14, -2.5,|True,False|\"Olá\"1\"|\n"
   ]
  },
  {
   "cell_type": "markdown",
   "id": "8d495b95",
   "metadata": {},
   "source": [
    "### Indexação"
   ]
  },
  {
   "cell_type": "markdown",
   "id": "8c015c81",
   "metadata": {},
   "source": [
    "Indexação é o processo de acessar elementos individuais em uma sequência, como uma string, lista ou tupla, usando um índice numérico. Em Python, a indexação começa em 0, o que significa que o primeiro elemento de uma sequência tem o índice 0, o segundo elemento tem o índice 1 e assim por diante.\n",
    "\n",
    "Exemplo:"
   ]
  },
  {
   "cell_type": "code",
   "execution_count": 9,
   "id": "ff0d53ad",
   "metadata": {},
   "outputs": [
    {
     "name": "stdout",
     "output_type": "stream",
     "text": [
      "l\n"
     ]
    }
   ],
   "source": [
    "string = \"Hello\"\n",
    "first_character = string[2]\n",
    "print(first_character)"
   ]
  },
  {
   "cell_type": "markdown",
   "id": "7afcc6eb",
   "metadata": {},
   "source": [
    "### Len()"
   ]
  },
  {
   "cell_type": "markdown",
   "id": "b317c90a",
   "metadata": {},
   "source": [
    "A função len() em Python é usada para retornar o comprimento (número de elementos) de um objeto sequencial, como uma string, lista, tupla, entre outros. Ela retorna um valor inteiro que representa a quantidade de elementos no objeto.\n",
    "\n",
    "\n",
    "Exemplo:"
   ]
  },
  {
   "cell_type": "code",
   "execution_count": 10,
   "id": "1b2bfdde",
   "metadata": {},
   "outputs": [
    {
     "name": "stdout",
     "output_type": "stream",
     "text": [
      "13\n"
     ]
    }
   ],
   "source": [
    "string = \"Hello, World!\"\n",
    "length = len(string)\n",
    "print(length)"
   ]
  },
  {
   "cell_type": "markdown",
   "id": "8fac4247",
   "metadata": {},
   "source": [
    "Você também pode usar a função len() com outros tipos de objetos sequenciais, como listas e tuplas. \n",
    "Aqui está um exemplo com uma lista:"
   ]
  },
  {
   "cell_type": "code",
   "execution_count": 11,
   "id": "88050ef6",
   "metadata": {},
   "outputs": [
    {
     "name": "stdout",
     "output_type": "stream",
     "text": [
      "5\n"
     ]
    }
   ],
   "source": [
    "my_list = [1, 2, 3, 4, 5]\n",
    "length = len(my_list)\n",
    "print(length)"
   ]
  },
  {
   "cell_type": "markdown",
   "id": "53d3bafd",
   "metadata": {},
   "source": [
    "### Lower()"
   ]
  },
  {
   "cell_type": "markdown",
   "id": "1029eef4",
   "metadata": {},
   "source": [
    "A função lower() em Python é usada para converter uma string em letras minúsculas. Ela retorna uma nova string com todos os caracteres em minúsculas.\n",
    "\n",
    "Exemplo:"
   ]
  },
  {
   "cell_type": "code",
   "execution_count": 13,
   "id": "2a695ed1",
   "metadata": {},
   "outputs": [
    {
     "name": "stdout",
     "output_type": "stream",
     "text": [
      "hello, world!\n"
     ]
    }
   ],
   "source": [
    "string = \"HELLO, WORLD!\"\n",
    "lower_string = string.lower()\n",
    "print(lower_string)"
   ]
  },
  {
   "cell_type": "markdown",
   "id": "39208cff",
   "metadata": {},
   "source": [
    "### Print"
   ]
  },
  {
   "cell_type": "markdown",
   "id": "fd4ebecc",
   "metadata": {},
   "source": [
    "Imprime a mensagem ou variável dentro de `()`.\n",
    "\n",
    "Exemplo:"
   ]
  },
  {
   "cell_type": "code",
   "execution_count": 17,
   "id": "59566c48",
   "metadata": {},
   "outputs": [
    {
     "name": "stdout",
     "output_type": "stream",
     "text": [
      "HelloWorld\n"
     ]
    }
   ],
   "source": [
    "a='Hello'\n",
    "b='World'\n",
    "print(a + b)"
   ]
  },
  {
   "cell_type": "markdown",
   "id": "69596ff8",
   "metadata": {},
   "source": [
    "### Operaçãoes em Python"
   ]
  },
  {
   "cell_type": "markdown",
   "id": "10ee9ed5",
   "metadata": {},
   "source": [
    "- Adição (+): Soma dois valores.\n",
    "- Subtração (-): Subtrai um valor de outro.\n",
    "- Multiplicação (*): Multiplica dois valores.\n",
    "- Divisão (/): Divide um valor por outro, retorna um float.\n",
    "- Divisão Piso (//): Divide um valor por outro, retorna o quociente como um número inteiro.\n",
    "- Módulo (%): Retorna o resto após a divisão.\n",
    "\n",
    "\n",
    "Exemplos:"
   ]
  },
  {
   "cell_type": "code",
   "execution_count": 18,
   "id": "3eade9a9",
   "metadata": {},
   "outputs": [
    {
     "name": "stdout",
     "output_type": "stream",
     "text": [
      "8\n"
     ]
    }
   ],
   "source": [
    "# Adição\n",
    "a = 5\n",
    "b = 3\n",
    "soma = a + b\n",
    "print(soma)"
   ]
  },
  {
   "cell_type": "code",
   "execution_count": 19,
   "id": "b31dd74a",
   "metadata": {},
   "outputs": [
    {
     "name": "stdout",
     "output_type": "stream",
     "text": [
      "6\n"
     ]
    }
   ],
   "source": [
    "# Subtração\n",
    "a = 10\n",
    "b = 4\n",
    "subtracao = a - b\n",
    "print(subtracao)"
   ]
  },
  {
   "cell_type": "code",
   "execution_count": 20,
   "id": "5a86715b",
   "metadata": {},
   "outputs": [
    {
     "name": "stdout",
     "output_type": "stream",
     "text": [
      "15\n"
     ]
    }
   ],
   "source": [
    "# Multiplicação\n",
    "a = 3\n",
    "b = 5\n",
    "multiplicacao = a * b\n",
    "print(multiplicacao)"
   ]
  },
  {
   "cell_type": "code",
   "execution_count": 21,
   "id": "a0319d8e",
   "metadata": {},
   "outputs": [
    {
     "name": "stdout",
     "output_type": "stream",
     "text": [
      "5.0\n"
     ]
    }
   ],
   "source": [
    "# Divisão\n",
    "a = 10\n",
    "b = 2\n",
    "divisao = a / b\n",
    "print(divisao)\n"
   ]
  },
  {
   "cell_type": "code",
   "execution_count": 24,
   "id": "f2de8fb7",
   "metadata": {},
   "outputs": [
    {
     "name": "stdout",
     "output_type": "stream",
     "text": [
      "3\n"
     ]
    }
   ],
   "source": [
    "# Divisão Piso\n",
    "a = 10\n",
    "b = 3\n",
    "divisao_piso = a // b\n",
    "print(divisao_piso)"
   ]
  },
  {
   "cell_type": "code",
   "execution_count": 25,
   "id": "8c43a470",
   "metadata": {},
   "outputs": [
    {
     "name": "stdout",
     "output_type": "stream",
     "text": [
      "1\n"
     ]
    }
   ],
   "source": [
    "# Módulo\n",
    "a = 10\n",
    "b = 3\n",
    "resto = a % b\n",
    "print(resto)"
   ]
  },
  {
   "cell_type": "markdown",
   "id": "2e03bfc0",
   "metadata": {},
   "source": [
    "### Replace()"
   ]
  },
  {
   "cell_type": "markdown",
   "id": "ff88ee4a",
   "metadata": {},
   "source": [
    "A função replace() em Python é usada para substituir uma parte de uma string por outra parte. Ela retorna uma nova string com as substituições feitas.\n",
    "\n",
    "Exemplo: "
   ]
  },
  {
   "cell_type": "code",
   "execution_count": 26,
   "id": "99a72a5f",
   "metadata": {},
   "outputs": [
    {
     "name": "stdout",
     "output_type": "stream",
     "text": [
      "Hi, World!\n"
     ]
    }
   ],
   "source": [
    "string = \"Hello, World!\"\n",
    "nova_string = string.replace(\"Hello\", \"Hi\")\n",
    "print(nova_string)"
   ]
  },
  {
   "cell_type": "markdown",
   "id": "926a3dd9",
   "metadata": {},
   "source": [
    "Outro exemplo:"
   ]
  },
  {
   "cell_type": "code",
   "execution_count": 29,
   "id": "68b823ac",
   "metadata": {},
   "outputs": [
    {
     "name": "stdout",
     "output_type": "stream",
     "text": [
      "Rogerio\n"
     ]
    }
   ],
   "source": [
    "string = \"Rogeria\"\n",
    "nova_string = string.replace(\"a\", \"o\")\n",
    "print(nova_string)"
   ]
  },
  {
   "cell_type": "markdown",
   "id": "9e71dcaf",
   "metadata": {},
   "source": [
    "### Slicing"
   ]
  },
  {
   "cell_type": "markdown",
   "id": "f2eb4f82",
   "metadata": {},
   "source": [
    "O slicing é usado para extrair uma parte específica de uma sequência, como uma string, lista ou tupla. Ele permite que você selecione um intervalo de elementos com base em seus índices.\n",
    "\n",
    "Exemplo:"
   ]
  },
  {
   "cell_type": "code",
   "execution_count": 33,
   "id": "a58c71f2",
   "metadata": {},
   "outputs": [
    {
     "name": "stdout",
     "output_type": "stream",
     "text": [
      "World\n"
     ]
    }
   ],
   "source": [
    "string = \"Hello, World!\"\n",
    "substring = string[7:12]\n",
    "print(substring)"
   ]
  },
  {
   "cell_type": "markdown",
   "id": "9a741eaf",
   "metadata": {},
   "source": [
    "Outro Exemplo:"
   ]
  },
  {
   "cell_type": "code",
   "execution_count": 39,
   "id": "3504e802",
   "metadata": {},
   "outputs": [
    {
     "name": "stdout",
     "output_type": "stream",
     "text": [
      "amiga, bom dia. Tudo bem? \n"
     ]
    }
   ],
   "source": [
    "string = \"Oi amiga, bom dia. Tudo bem? Vamos passear hoje?\"\n",
    "substring = string[3:29]\n",
    "print(substring)"
   ]
  },
  {
   "cell_type": "markdown",
   "id": "74ffa9d2",
   "metadata": {},
   "source": [
    "### Split "
   ]
  },
  {
   "cell_type": "markdown",
   "id": "a96d45e1",
   "metadata": {},
   "source": [
    "É usado para dividir uma string em uma lista de substrings com base em um separador especificado. O separador padrão é o espaço em branco.\n",
    "\n",
    "Exemplo:"
   ]
  },
  {
   "cell_type": "code",
   "execution_count": 40,
   "id": "9c9c9a96",
   "metadata": {},
   "outputs": [
    {
     "name": "stdout",
     "output_type": "stream",
     "text": [
      "['Olá,', 'Mundo!']\n"
     ]
    }
   ],
   "source": [
    "string = \"Olá, Mundo!\"\n",
    "lista_palavras = string.split()\n",
    "print(lista_palavras)"
   ]
  },
  {
   "cell_type": "markdown",
   "id": "f2ce28bb",
   "metadata": {},
   "source": [
    "Outro exemplo:"
   ]
  },
  {
   "cell_type": "code",
   "execution_count": 41,
   "id": "579dfd5a",
   "metadata": {},
   "outputs": [
    {
     "name": "stdout",
     "output_type": "stream",
     "text": [
      "['Oi', 'amiga,', 'bom', 'dia.', 'Tudo', 'bem?', 'Vamos', 'passear', 'hoje?']\n"
     ]
    }
   ],
   "source": [
    "string= \"Oi amiga, bom dia. Tudo bem? Vamos passear hoje?\"\n",
    "lista_palavras = string.split()\n",
    "print(lista_palavras)"
   ]
  },
  {
   "cell_type": "markdown",
   "id": "60e92508",
   "metadata": {},
   "source": [
    "### Strip"
   ]
  },
  {
   "cell_type": "markdown",
   "id": "d44a60e8",
   "metadata": {},
   "source": [
    "O método strip() é usado para remover espaços em branco no início e no final de uma string.\n",
    "\n",
    "\n",
    "Exemplo: "
   ]
  },
  {
   "cell_type": "code",
   "execution_count": 42,
   "id": "a98a1151",
   "metadata": {},
   "outputs": [
    {
     "name": "stdout",
     "output_type": "stream",
     "text": [
      "Olá, Mundo!\n"
     ]
    }
   ],
   "source": [
    "string = \"   Olá, Mundo!   \"\n",
    "nova_string = string.strip()\n",
    "print(nova_string)"
   ]
  },
  {
   "cell_type": "markdown",
   "id": "6ef1cc6e",
   "metadata": {},
   "source": [
    "### Upper"
   ]
  },
  {
   "cell_type": "markdown",
   "id": "635644ba",
   "metadata": {},
   "source": [
    " O método upper() é usado para converter todos os caracteres de uma string em letras maiúsculas.\n",
    "    \n",
    "Exemplo:"
   ]
  },
  {
   "cell_type": "code",
   "execution_count": 43,
   "id": "a4c79e60",
   "metadata": {},
   "outputs": [
    {
     "name": "stdout",
     "output_type": "stream",
     "text": [
      "HELLO, WORLD!\n"
     ]
    }
   ],
   "source": [
    "string = \"Hello, World!\"\n",
    "nova_string = string.upper()\n",
    "print(nova_string)"
   ]
  },
  {
   "cell_type": "markdown",
   "id": "bae08985",
   "metadata": {},
   "source": [
    "### Variable Assignment"
   ]
  },
  {
   "cell_type": "markdown",
   "id": "b9263ec0",
   "metadata": {},
   "source": [
    "A atribuição de variáveis é usada para armazenar valores em uma variável para uso posterior. As variáveis são usadas para armazenar dados e podem ser usadas para realizar cálculos, armazenar resultados intermediários e muito mais.\n",
    "\n",
    "\n",
    "Exemplo: "
   ]
  },
  {
   "cell_type": "code",
   "execution_count": 44,
   "id": "d42dd2cd",
   "metadata": {},
   "outputs": [
    {
     "name": "stdout",
     "output_type": "stream",
     "text": [
      "Nome: João\n",
      "Idade: 25\n",
      "Altura: 1.75\n"
     ]
    }
   ],
   "source": [
    "nome = \"João\"\n",
    "idade = 25\n",
    "altura = 1.75\n",
    "\n",
    "print(\"Nome:\", nome)\n",
    "print(\"Idade:\", idade)\n",
    "print(\"Altura:\", altura)"
   ]
  },
  {
   "cell_type": "markdown",
   "id": "63cf93e1",
   "metadata": {},
   "source": [
    "## Autor\n",
    "### Lizy Kyara"
   ]
  },
  {
   "cell_type": "markdown",
   "id": "1fd5e80a",
   "metadata": {},
   "source": []
  },
  {
   "cell_type": "code",
   "execution_count": null,
   "id": "574b5ad0",
   "metadata": {},
   "outputs": [],
   "source": []
  }
 ],
 "metadata": {
  "kernelspec": {
   "display_name": "Python 3 (ipykernel)",
   "language": "python",
   "name": "python3"
  },
  "language_info": {
   "codemirror_mode": {
    "name": "ipython",
    "version": 3
   },
   "file_extension": ".py",
   "mimetype": "text/x-python",
   "name": "python",
   "nbconvert_exporter": "python",
   "pygments_lexer": "ipython3",
   "version": "3.11.5"
  }
 },
 "nbformat": 4,
 "nbformat_minor": 5
}
