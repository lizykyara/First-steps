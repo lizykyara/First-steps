{
 "cells": [
  {
   "cell_type": "markdown",
   "id": "5f53ff7f-19e2-4193-84b0-297a213203f3",
   "metadata": {},
   "source": [
    "# Data Science Tools and Ecosystem"
   ]
  },
  {
   "cell_type": "markdown",
   "id": "cae6afa8-afd9-4cee-8849-b77f4379b52d",
   "metadata": {},
   "source": [
    "## In this notebook, Data Science Tools and Ecosystem are summarized."
   ]
  },
  {
   "cell_type": "markdown",
   "id": "5287fef2-66b1-43f8-9bcb-294228b71e23",
   "metadata": {},
   "source": [
    "**Objectives:** \n",
    "* 1 List popular languages for Data Science\n",
    "* 2 List libraries for Data Scientists\n",
    "* 3 Data Science Tools\n",
    "* 4 Simple arithmetic expression\n",
    "* 5 Convert minutes to hours\n"
   ]
  },
  {
   "cell_type": "markdown",
   "id": "462acdfa-a03e-44de-b68b-99810acfc7f5",
   "metadata": {},
   "source": [
    "### Some of the popular languages that Data Scientists use are:\n",
    "\n",
    "1. Python\n",
    "2. R\n",
    "3. C"
   ]
  },
  {
   "cell_type": "markdown",
   "id": "50522105-3109-4c54-932b-ac5fb71ec979",
   "metadata": {},
   "source": [
    "### Some of the commonly used libraries used by Data Scientists include:\n",
    "1. Pandas\n",
    "2. NumPy\n",
    "3. Matplotlib"
   ]
  },
  {
   "cell_type": "markdown",
   "id": "7b714570-d6d9-4947-8416-c0cb240f0073",
   "metadata": {},
   "source": [
    "|Data Science Tools|\n",
    "----------\n",
    "|MySQL|\n",
    "|Cassandra|\n",
    "|PostgreSQL|"
   ]
  },
  {
   "cell_type": "markdown",
   "id": "147def5c-46c3-442a-af3e-924460fca088",
   "metadata": {},
   "source": [
    "# Below are a few examples of evaluating arithmetic expressions in Python\n",
    "\n",
    "### This a simple arithmetic expression tomutiply then add integers"
   ]
  },
  {
   "cell_type": "markdown",
   "id": "81932c5a-6cf5-4825-82ad-089c0240ddbc",
   "metadata": {},
   "source": [
    "(3*4)+5"
   ]
  },
  {
   "cell_type": "markdown",
   "id": "70680c0f-cfa8-4672-bf22-616e57ba2d7e",
   "metadata": {},
   "source": [
    "### His will convert 200 minutes to hours bydiving by 60"
   ]
  },
  {
   "cell_type": "code",
   "execution_count": 1,
   "id": "575ba2a0-0542-42e7-924d-03d60e713c08",
   "metadata": {
    "tags": []
   },
   "outputs": [
    {
     "name": "stdout",
     "output_type": "stream",
     "text": [
      "200 minutos são 3.33 horas\n"
     ]
    }
   ],
   "source": [
    "minutos = 200\n",
    "horas = minutos / 60\n",
    "horas_arredondadas = round(horas, 2)\n",
    "print(\"200 minutos são\", horas_arredondadas, \"horas\")"
   ]
  },
  {
   "cell_type": "markdown",
   "id": "4496e6a7-da00-4a12-96dc-8ef92b37984c",
   "metadata": {},
   "source": [
    "## Autor\n",
    "# Lizy Kyara"
   ]
  }
 ],
 "metadata": {
  "kernelspec": {
   "display_name": "Python 3 (ipykernel)",
   "language": "python",
   "name": "python3"
  },
  "language_info": {
   "codemirror_mode": {
    "name": "ipython",
    "version": 3
   },
   "file_extension": ".py",
   "mimetype": "text/x-python",
   "name": "python",
   "nbconvert_exporter": "python",
   "pygments_lexer": "ipython3",
   "version": "3.11.5"
  }
 },
 "nbformat": 4,
 "nbformat_minor": 5
}
