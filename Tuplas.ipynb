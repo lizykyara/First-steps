{
 "cells": [
  {
   "cell_type": "markdown",
   "id": "28cccde7",
   "metadata": {},
   "source": [
    "# Folha de dicas"
   ]
  },
  {
   "cell_type": "code",
   "execution_count": null,
   "id": "5ee6827a",
   "metadata": {},
   "outputs": [],
   "source": [
    "### Listas e tuplas / Dictionary e Sets"
   ]
  },
  {
   "cell_type": "markdown",
   "id": "41ef57d6",
   "metadata": {},
   "source": [
    "### Append()"
   ]
  },
  {
   "cell_type": "markdown",
   "id": "04c697eb",
   "metadata": {},
   "source": [
    "O método append() é uma função embutida em Python que é usada para adicionar um elemento ao final de uma lista existente.\n",
    "\n",
    "Exemplo:"
   ]
  },
  {
   "cell_type": "code",
   "execution_count": 28,
   "id": "c92eec3f",
   "metadata": {},
   "outputs": [],
   "source": [
    "# Lista de tuplas representando alunos e suas notas em diferentes disciplinas\n",
    "notas =[\n",
    "    (\"João\", {\"Matemática\": 85, \"Português\": 90, \"Ciências\": 88}),\n",
    "    (\"Maria\", {\"Matemática\": 92, \"Português\": 88, \"Ciências\": 95}),\n",
    "    (\"Pedro\", {\"Matemática\": 78, \"Português\": 85, \"Ciências\": 80}),\n",
    "    (\"Ana\", {\"Matemática\": 95, \"Português\": 91, \"Ciências\": 89}),]\n"
   ]
  },
  {
   "cell_type": "code",
   "execution_count": 29,
   "id": "d9f2e0be",
   "metadata": {},
   "outputs": [
    {
     "name": "stdout",
     "output_type": "stream",
     "text": [
      "[('João', {'Matemática': 85, 'Português': 90, 'Ciências': 88}), ('Maria', {'Matemática': 92, 'Português': 88, 'Ciências': 95}), ('Pedro', {'Matemática': 78, 'Português': 85, 'Ciências': 80}), ('Ana', {'Matemática': 95, 'Português': 91, 'Ciências': 89}), ('Caio', {'Matemática': 90, 'Português': 90, 'Ciências': 90})]\n"
     ]
    }
   ],
   "source": [
    "# Adicionando um novo elemento a lista\n",
    "\n",
    "nova_tupla = (\"Caio\",{\"Matemática\": 90, \"Português\": 90,\"Ciências\" :90})\n",
    "notas.append(nova_tupla)\n",
    "print(notas)"
   ]
  },
  {
   "cell_type": "markdown",
   "id": "2921c451",
   "metadata": {},
   "source": [
    "### Copy()"
   ]
  },
  {
   "cell_type": "markdown",
   "id": "3a0ed0a0",
   "metadata": {},
   "source": [
    "O método copy() é usado em Python para criar uma cópia superficial (shallow copy) de um objeto.\n",
    "\n",
    "Exemplo"
   ]
  },
  {
   "cell_type": "code",
   "execution_count": 36,
   "id": "1fecc9a9",
   "metadata": {},
   "outputs": [
    {
     "name": "stdout",
     "output_type": "stream",
     "text": [
      "[('João', {'Matemática': 85, 'Português': 90, 'Ciências': 88}), ('Maria', {'Matemática': 92, 'Português': 88, 'Ciências': 95}), ('Pedro', {'Matemática': 78, 'Português': 85, 'Ciências': 80}), ('Ana', {'Matemática': 95, 'Português': 91, 'Ciências': 89})]\n",
      "\n",
      "[('João', {'Matemática': 85, 'Português': 90, 'Ciências': 88}), ('Maria', {'Matemática': 92, 'Português': 88, 'Ciências': 95}), ('Pedro', {'Matemática': 78, 'Português': 85, 'Ciências': 80}), ('Ana', {'Matemática': 95, 'Português': 91, 'Ciências': 89}), ('Flávia', {'Matemática': 95, 'Português': 91, 'Ciências': 89})]\n"
     ]
    }
   ],
   "source": [
    "#Criando duas listas notas A1 e A2\n",
    "\n",
    "notas_A1 = [\n",
    "    (\"João\", {\"Matemática\": 85, \"Português\": 90, \"Ciências\": 88}),\n",
    "    (\"Maria\", {\"Matemática\": 92, \"Português\": 88, \"Ciências\": 95}),\n",
    "    (\"Pedro\", {\"Matemática\": 78, \"Português\": 85, \"Ciências\": 80}),\n",
    "    (\"Ana\", {\"Matemática\": 95, \"Português\": 91, \"Ciências\": 89}),]\n",
    "\n",
    "notas_A2 = notas_A1.copy()\n",
    "notas_A2.append((\"Flávia\", {\"Matemática\": 95, \"Português\": 91, \"Ciências\": 89}))\n",
    "\n",
    "print(notas_A1)\n",
    "print()\n",
    "print(notas_A2)"
   ]
  },
  {
   "cell_type": "markdown",
   "id": "a30ef4a1",
   "metadata": {},
   "source": [
    "Observe que a alteração feita em notas_A2 não afeta notas_A1. Ao imprimir as duas listas, você verá que notas_A1 permanece inalterada, enquanto notas_A2 contém o elemento adicional."
   ]
  },
  {
   "cell_type": "markdown",
   "id": "2ffd1c7e",
   "metadata": {},
   "source": [
    "### Count()"
   ]
  },
  {
   "cell_type": "markdown",
   "id": "7fa0d645",
   "metadata": {},
   "source": [
    "O método count() é uma função embutida em Python que é usada para contar o número de ocorrências de um determinado elemento em uma sequência.\n",
    "\n",
    "Exemplo"
   ]
  },
  {
   "cell_type": "code",
   "execution_count": 44,
   "id": "57d8788e",
   "metadata": {},
   "outputs": [
    {
     "name": "stdout",
     "output_type": "stream",
     "text": [
      "4\n"
     ]
    }
   ],
   "source": [
    "notas= (85,  90, 88,92, 88, 95,78, 85,  80,95, 91,  89,85,  90,  88,92,  88,  95,78, 85,  80,95, 91, 89)\n",
    "\n",
    "ocorrencias = notas.count(95)\n",
    "print(ocorrencias)"
   ]
  },
  {
   "cell_type": "markdown",
   "id": "31ea9019",
   "metadata": {},
   "source": [
    "### Del"
   ]
  },
  {
   "cell_type": "markdown",
   "id": "45feb5e5",
   "metadata": {},
   "source": [
    "O operador del em Python é usado para remover um objeto específico, como uma variável, um item de uma lista ou um elemento de um dicionário.\n",
    "\n",
    "Exemplo: "
   ]
  },
  {
   "cell_type": "code",
   "execution_count": 48,
   "id": "37055b5d",
   "metadata": {},
   "outputs": [
    {
     "name": "stdout",
     "output_type": "stream",
     "text": [
      "[85, 90, 88, 92, 83, 95, 78, 85, 80, 95, 89, 85, 90, 81, 92, 87, 95, 78, 82, 80, 95, 91, 89]\n"
     ]
    }
   ],
   "source": [
    "notas= [85,90,88,92,83,95,78,85,80,95,91,89,85,90,81,92,87,95,78,82,80,95,91,89]\n",
    "del notas[10]\n",
    "print(notas)"
   ]
  },
  {
   "cell_type": "markdown",
   "id": "f6876513",
   "metadata": {},
   "source": [
    "Outro exemplo"
   ]
  },
  {
   "cell_type": "code",
   "execution_count": 49,
   "id": "c88c5ca3",
   "metadata": {},
   "outputs": [
    {
     "name": "stdout",
     "output_type": "stream",
     "text": [
      "['Pedro', 'João', 'Carol']\n"
     ]
    }
   ],
   "source": [
    "alunos = ['Pedro', 'João','Ana', 'Carol']\n",
    "del alunos[2]\n",
    "print(alunos)"
   ]
  },
  {
   "cell_type": "markdown",
   "id": "d3950f97",
   "metadata": {},
   "source": [
    "### Extend"
   ]
  },
  {
   "cell_type": "markdown",
   "id": "716e6aea",
   "metadata": {},
   "source": [
    "O método extend() em Python é usado para adicionar elementos de uma lista (ou qualquer iterável) a outra lista. Ele permite que você estenda uma lista existente, adicionando os elementos de outra lista a ela.\n",
    "\n",
    "\n",
    "Exemplo:"
   ]
  },
  {
   "cell_type": "code",
   "execution_count": 50,
   "id": "5e3c97b2",
   "metadata": {},
   "outputs": [
    {
     "name": "stdout",
     "output_type": "stream",
     "text": [
      "[7, 8, 3, 6, 9, 5, 0, 2, 4, 1]\n"
     ]
    }
   ],
   "source": [
    "notas1 = [7,8,3,6,9]\n",
    "notas2 = [5,0,2,4,1]\n",
    "\n",
    "notas1.extend(notas2)\n",
    "\n",
    "print(notas1)"
   ]
  },
  {
   "cell_type": "markdown",
   "id": "6dfe62e5",
   "metadata": {},
   "source": [
    "### Indexing"
   ]
  },
  {
   "cell_type": "markdown",
   "id": "3fa6f474",
   "metadata": {},
   "source": [
    "A indexação em Python é uma técnica que permite acessar elementos individuais em uma sequência, como uma string, lista ou tupla, usando um índice numérico. Os índices são usados para identificar a posição de um elemento na sequência.\n",
    "\n",
    "Exemplo: "
   ]
  },
  {
   "cell_type": "code",
   "execution_count": 51,
   "id": "8d3bbc3b",
   "metadata": {},
   "outputs": [
    {
     "name": "stdout",
     "output_type": "stream",
     "text": [
      "85\n",
      "89\n",
      "88\n"
     ]
    }
   ],
   "source": [
    "notas= [85,90,88,92,83,95,78,85,80,95,91,89,85,90,81,92,87,95,78,82,80,95,91,89]\n",
    "\n",
    "primeiro_elemento = notas[0]\n",
    "ultimo_elemento = notas[-1]\n",
    "elemento_do_meio = notas[2]\n",
    "\n",
    "print(primeiro_elemento)  \n",
    "print(ultimo_elemento) \n",
    "print(elemento_do_meio)"
   ]
  },
  {
   "cell_type": "markdown",
   "id": "365bc273",
   "metadata": {},
   "source": [
    "### Insert()"
   ]
  },
  {
   "cell_type": "markdown",
   "id": "f165744e",
   "metadata": {},
   "source": [
    "O método insert() em Python é usado para inserir um elemento em uma lista em uma posição específica. Ele permite que você insira um novo elemento em qualquer índice desejado na lista.\n",
    "\n",
    "\n",
    "Exemplo: "
   ]
  },
  {
   "cell_type": "code",
   "execution_count": 60,
   "id": "0449f571",
   "metadata": {},
   "outputs": [
    {
     "name": "stdout",
     "output_type": "stream",
     "text": [
      "[85, 90, 10, 82, 80, 95, 91, 89]\n"
     ]
    }
   ],
   "source": [
    "notas= [85,90,82,80,95,91,89]\n",
    "notas.insert(2,10)\n",
    "print(notas)"
   ]
  },
  {
   "cell_type": "markdown",
   "id": "303ec888",
   "metadata": {},
   "source": [
    "### Modificando a lista"
   ]
  },
  {
   "cell_type": "markdown",
   "id": "1bfbfa30",
   "metadata": {},
   "source": [
    "Você pode usar a indexação para modificar ou atribuir novos valores a elementos específicos da lista.\n",
    "\n",
    "Exemplo:"
   ]
  },
  {
   "cell_type": "code",
   "execution_count": 61,
   "id": "a9d1aa7e",
   "metadata": {},
   "outputs": [
    {
     "name": "stdout",
     "output_type": "stream",
     "text": [
      "[85, 90, 82, 90, 95, 91, 89]\n"
     ]
    }
   ],
   "source": [
    "notas= [85,90,82,80,95,91,89]\n",
    "notas[3]= 90\n",
    "print(notas)"
   ]
  },
  {
   "cell_type": "markdown",
   "id": "2a2224cb",
   "metadata": {},
   "source": [
    "### Pop()"
   ]
  },
  {
   "cell_type": "markdown",
   "id": "1d952fd0",
   "metadata": {},
   "source": [
    "O método pop() em Python é usado para remover e retornar o último elemento de uma lista. Ele também pode receber um índice como argumento para remover e retornar um elemento específico da lista.\n",
    "\n",
    "Exemplo: "
   ]
  },
  {
   "cell_type": "code",
   "execution_count": 62,
   "id": "4a3928be",
   "metadata": {},
   "outputs": [
    {
     "name": "stdout",
     "output_type": "stream",
     "text": [
      "89\n",
      "[85, 90, 82, 80, 95, 91]\n"
     ]
    }
   ],
   "source": [
    "notas= [85,90,82,80,95,91,89]\n",
    "\n",
    "elementos =notas.pop()\n",
    "\n",
    "print(elementos)\n",
    "print(notas)"
   ]
  },
  {
   "cell_type": "markdown",
   "id": "79d58fd3",
   "metadata": {},
   "source": [
    "### Remove()"
   ]
  },
  {
   "cell_type": "markdown",
   "id": "54848ad3",
   "metadata": {},
   "source": [
    "Para remover um elemento de uma lista. O método `remove()` remove a primeira ocorrência do valor especificado.\n",
    "\n",
    "Exemplo: "
   ]
  },
  {
   "cell_type": "code",
   "execution_count": 63,
   "id": "da70ad4a",
   "metadata": {},
   "outputs": [
    {
     "name": "stdout",
     "output_type": "stream",
     "text": [
      "[85, 90, 82, 80, 95, 91, 94, 60, 65, 89]\n"
     ]
    }
   ],
   "source": [
    "notas= [85,90,82,80,95,91,58, 94, 60,65,89]\n",
    "notas.remove(58)\n",
    "print(notas)"
   ]
  },
  {
   "cell_type": "markdown",
   "id": "277339e6",
   "metadata": {},
   "source": [
    "### Reverse()"
   ]
  },
  {
   "cell_type": "markdown",
   "id": "dc117753",
   "metadata": {},
   "source": [
    "O método reverse() em Python é usado para inverter a ordem dos elementos em uma lista. Ele altera a ordem dos elementos na própria lista, sem criar uma nova lista.\n",
    "\n",
    "Exemplo:"
   ]
  },
  {
   "cell_type": "code",
   "execution_count": 65,
   "id": "ab715896",
   "metadata": {},
   "outputs": [
    {
     "name": "stdout",
     "output_type": "stream",
     "text": [
      "[89, 65, 60, 94, 58, 91, 95, 80, 82, 90, 85]\n"
     ]
    }
   ],
   "source": [
    "notas= [85,90,82,80,95,91,58, 94, 60,65,89]\n",
    "notas.reverse()\n",
    "print(notas)"
   ]
  },
  {
   "cell_type": "markdown",
   "id": "5b176b4c",
   "metadata": {},
   "source": [
    "### Sort() "
   ]
  },
  {
   "cell_type": "markdown",
   "id": "464235af",
   "metadata": {},
   "source": [
    "Para ordenar uma lista de números em ordem crescente ou decrescente em Python, você pode usar os métodos sort() ou sorted(). Ambos os métodos permitem que você ordene os elementos de uma lista.\n",
    "\n",
    "Exemplo:"
   ]
  },
  {
   "cell_type": "code",
   "execution_count": 67,
   "id": "0563c409",
   "metadata": {},
   "outputs": [
    {
     "name": "stdout",
     "output_type": "stream",
     "text": [
      "[58, 60, 65, 80, 82, 85, 89, 90, 91, 94, 95]\n"
     ]
    }
   ],
   "source": [
    "notas= [85,90,82,80,95,91,58, 94, 60,65,89]\n",
    "notas.sort()\n",
    "\n",
    "print(notas)"
   ]
  },
  {
   "cell_type": "markdown",
   "id": "4dbfa7d8",
   "metadata": {},
   "source": [
    "Se você quiser ordenar a lista em ordem decrescente, pode passar o argumento reverse=True para o método sort() ou para a função sorted(). Aqui está um exemplo:\n",
    "    \n",
    "Exemplo:"
   ]
  },
  {
   "cell_type": "code",
   "execution_count": 68,
   "id": "1acf8d5d",
   "metadata": {},
   "outputs": [
    {
     "name": "stdout",
     "output_type": "stream",
     "text": [
      "[95, 94, 91, 90, 89, 85, 82, 80, 65, 60, 58]\n"
     ]
    }
   ],
   "source": [
    "notas= [85,90,82,80,95,91,58, 94, 60,65,89]\n",
    "notas.sort(reverse=True)\n",
    "print(notas)"
   ]
  },
  {
   "cell_type": "markdown",
   "id": "ee72ee3f",
   "metadata": {},
   "source": [
    "### Slicing"
   ]
  },
  {
   "cell_type": "markdown",
   "id": "d89f070b",
   "metadata": {},
   "source": [
    "Você pode usar o Slicing para acessar vários elementos de uma lista.\n",
    "\n",
    "Exemplos:"
   ]
  },
  {
   "cell_type": "code",
   "execution_count": 70,
   "id": "76f89114",
   "metadata": {},
   "outputs": [
    {
     "name": "stdout",
     "output_type": "stream",
     "text": [
      "[90, 82, 80]\n"
     ]
    }
   ],
   "source": [
    "notas= [85,90,82,80,95,91,58, 94, 60,65,89]\n",
    "print(notas[1:4])"
   ]
  },
  {
   "cell_type": "code",
   "execution_count": 71,
   "id": "d58d6c84",
   "metadata": {},
   "outputs": [
    {
     "name": "stdout",
     "output_type": "stream",
     "text": [
      "[80, 95, 91, 58, 94, 60, 65, 89]\n"
     ]
    }
   ],
   "source": [
    "notas= [85,90,82,80,95,91,58, 94, 60,65,89]\n",
    "print(notas[3:])"
   ]
  },
  {
   "cell_type": "code",
   "execution_count": 72,
   "id": "43b83f97",
   "metadata": {},
   "outputs": [
    {
     "name": "stdout",
     "output_type": "stream",
     "text": [
      "[82, 80, 95, 91, 58, 94, 60, 65, 89]\n"
     ]
    }
   ],
   "source": [
    "notas= [85,90,82,80,95,91,58, 94, 60,65,89]\n",
    "print(notas[2:])"
   ]
  },
  {
   "cell_type": "code",
   "execution_count": 73,
   "id": "3169700e",
   "metadata": {},
   "outputs": [
    {
     "name": "stdout",
     "output_type": "stream",
     "text": [
      "[85, 82, 95, 58, 60, 89]\n"
     ]
    }
   ],
   "source": [
    "notas= [85,90,82,80,95,91,58, 94, 60,65,89]\n",
    "print(notas[::2])"
   ]
  },
  {
   "cell_type": "markdown",
   "id": "f832aa93",
   "metadata": {},
   "source": [
    "# Dicionário"
   ]
  },
  {
   "cell_type": "markdown",
   "id": "132d67ce",
   "metadata": {},
   "source": [
    "### Acessando Valores"
   ]
  },
  {
   "cell_type": "markdown",
   "id": "539c30a9",
   "metadata": {},
   "source": [
    "Você pode acessar os valores em um dicionário usando suas 'chaves' correspondentes.\n",
    "\n",
    "Exemplo:"
   ]
  },
  {
   "cell_type": "code",
   "execution_count": 14,
   "id": "03f965a3",
   "metadata": {},
   "outputs": [
    {
     "name": "stdout",
     "output_type": "stream",
     "text": [
      "Nome: João\n",
      "Idade: 20\n",
      "Curso: Engenharia\n"
     ]
    }
   ],
   "source": [
    "student = {\n",
    "  \"name\": \"João\",\n",
    "  \"age\": 20,\n",
    "  \"course\": \"Engenharia\"\n",
    "}\n",
    "\n",
    "#cessando valores usando as chaves\n",
    "nome = student[\"name\"]\n",
    "idade = student[\"age\"]\n",
    "curso = student[\"course\"]\n",
    "\n",
    "#mprimindo os valores\n",
    "print(\"Nome:\", nome)\n",
    "print(\"Idade:\", idade)\n",
    "print(\"Curso:\", curso)"
   ]
  },
  {
   "cell_type": "markdown",
   "id": "2c6da85b",
   "metadata": {},
   "source": [
    "Outro exemplo: "
   ]
  },
  {
   "cell_type": "code",
   "execution_count": 15,
   "id": "dd0e7093",
   "metadata": {},
   "outputs": [
    {
     "name": "stdout",
     "output_type": "stream",
     "text": [
      "Arroz 2 Kg\n",
      "Feijão 2 KG\n",
      "Café 5 pacotes\n"
     ]
    }
   ],
   "source": [
    "compras = {\n",
    "    \"Arroz\": \"2 Kg\",\n",
    "    \"Feijão\":\"2 KG\",\n",
    "    \"Café\":\"5 pacotes\"\n",
    "}\n",
    "\n",
    "Arroz = compras[\"Arroz\"]\n",
    "Feijão = compras[\"Feijão\"]\n",
    "Café = compras[\"Café\"]\n",
    "\n",
    "print(\"Arroz\", Arroz)\n",
    "print(\"Feijão\", Feijão)\n",
    "print(\"Café\", Café)"
   ]
  },
  {
   "cell_type": "markdown",
   "id": "8ba1a439",
   "metadata": {},
   "source": [
    "### Adicionar ou modificar"
   ]
  },
  {
   "cell_type": "markdown",
   "id": "bfb672a4",
   "metadata": {},
   "source": [
    "Insere um novo par de valores-chave no dicionário. Se a chave já existir, o valor será atualizado; caso contrário, uma nova entrada será criada.\n",
    "\n",
    "\n",
    "Exemplo:"
   ]
  },
  {
   "cell_type": "code",
   "execution_count": 18,
   "id": "33d3be0e",
   "metadata": {},
   "outputs": [
    {
     "name": "stdout",
     "output_type": "stream",
     "text": [
      "{'Arroz': '2 Kg', 'Feijão': '3 Kg', 'Café': '5 pacotes', 'Açúcar': 'Açúcar 1 Kg'}\n"
     ]
    }
   ],
   "source": [
    "compras = {\n",
    "    \"Arroz\": \"2 Kg\",\n",
    "    \"Feijão\":\"2 Kg\",\n",
    "    \"Café\":\"5 pacotes\"\n",
    "}\n",
    "\n",
    "#Adicionando um novo valor ao dicionário\n",
    "compras[\"Açúcar\"] = \"Açúcar 1 Kg\"\n",
    "\n",
    "#Modificando um valor de uma chave existente\n",
    "compras[\"Feijão\"] = \"3 Kg\"\n",
    "\n",
    "#Imprimindo o dicionário atualizado \n",
    "print(compras)"
   ]
  },
  {
   "cell_type": "markdown",
   "id": "45bc1057",
   "metadata": {},
   "source": [
    "### Clear()"
   ]
  },
  {
   "cell_type": "markdown",
   "id": "9c66f3a7",
   "metadata": {},
   "source": [
    "O método clear() é usado para remover todos os itens de um dicionário, deixando-o vazio.\n",
    "\n",
    "Exemplo: "
   ]
  },
  {
   "cell_type": "code",
   "execution_count": 19,
   "id": "53225e48",
   "metadata": {},
   "outputs": [
    {
     "name": "stdout",
     "output_type": "stream",
     "text": [
      "Dicionário original: {'Arroz': '2 Kg', 'Feijão': '2 Kg', 'Café': '5 pacotes'}\n",
      "Dicionário após o clear: {}\n"
     ]
    }
   ],
   "source": [
    "compras = {\n",
    "    \"Arroz\": \"2 Kg\",\n",
    "    \"Feijão\":\"2 Kg\",\n",
    "    \"Café\":\"5 pacotes\"\n",
    "}\n",
    "\n",
    "print(\"Dicionário original:\", compras)\n",
    "\n",
    "compras.clear()\n",
    "\n",
    "print(\"Dicionário após o clear:\", compras)"
   ]
  },
  {
   "cell_type": "markdown",
   "id": "1c3797c9",
   "metadata": {},
   "source": [
    "### Copy()"
   ]
  },
  {
   "cell_type": "markdown",
   "id": "e3e863d2",
   "metadata": {},
   "source": [
    " O método copy() é usado para criar uma cópia superficial de um dicionário.\n",
    " \n",
    " \n",
    " Exemplo:"
   ]
  },
  {
   "cell_type": "code",
   "execution_count": 20,
   "id": "d076b0dd",
   "metadata": {},
   "outputs": [
    {
     "name": "stdout",
     "output_type": "stream",
     "text": [
      "Dicionário Origina:l {'Arroz': '2 Kg', 'Feijão': '2 Kg', 'Café': '6 pacotes'}\n",
      "Cópia do Dicionário: {'Arroz': '2 Kg', 'Feijão': '2 Kg', 'Café': '5 pacotes'}\n"
     ]
    }
   ],
   "source": [
    "compras = {\n",
    "    \"Arroz\": \"2 Kg\",\n",
    "    \"Feijão\":\"2 Kg\",\n",
    "    \"Café\":\"5 pacotes\"\n",
    "}\n",
    "\n",
    "#Criando uma cópia do dicionário usando o método copy()\n",
    "compras_copy = compras.copy()\n",
    "\n",
    "#Modificando o valor de uma chave no dicionário original\n",
    "compras[\"Café\"] = \"6 pacotes\"\n",
    "\n",
    "#Imprimindo os dois dicionários\n",
    "print(\"Dicionário Origina:l\", compras)\n",
    "print(\"Cópia do Dicionário:\", compras_copy)"
   ]
  },
  {
   "cell_type": "markdown",
   "id": "66cc79ef",
   "metadata": {},
   "source": [
    "### Del ()"
   ]
  },
  {
   "cell_type": "markdown",
   "id": "7f661d07",
   "metadata": {},
   "source": [
    "Para deletar um elemento específico de um dicionário, você pode usar a palavra-chave del seguida pela chave do elemento que deseja remover. \n",
    "\n",
    "Exemplo:"
   ]
  },
  {
   "cell_type": "code",
   "execution_count": 24,
   "id": "5c848782",
   "metadata": {},
   "outputs": [
    {
     "name": "stdout",
     "output_type": "stream",
     "text": [
      "{'Arroz': '2 Kg', 'Feijão': '2 Kg', 'Café': '5 pacotes', 'Macarrão': '2 pacotes', 'Biscoito': '5 pacotes', 'Extrato Tomate': '2 pacotes'}\n"
     ]
    }
   ],
   "source": [
    "compras = {\n",
    "    \"Arroz\": \"2 Kg\",\n",
    "    \"Feijão\":\"2 Kg\",\n",
    "    \"Café\":\"5 pacotes\",\n",
    "    \"Macarrão\":\"2 pacotes\",\n",
    "    \"Biscoito\":\"5 pacotes\",\n",
    "    \"Azeite\":\"1 litro\",\n",
    "    \"Extrato Tomate\":\"2 pacotes\"}\n",
    "\n",
    "#Deletando o elemetento com a chave \"Azeite\"\n",
    "del compras [\"Azeite\"]\n",
    "\n",
    "#Imprimindo o dicionário atualizado\n",
    "print(compras)"
   ]
  },
  {
   "cell_type": "markdown",
   "id": "a6c4eeff",
   "metadata": {},
   "source": [
    "### Items()"
   ]
  },
  {
   "cell_type": "markdown",
   "id": "5bd85301",
   "metadata": {},
   "source": [
    "O método items() é um método embutido em dicionários em Python. Ele retorna uma visualização de todos os pares chave-valor do dicionário como tuplas. Cada tupla contém a chave como o primeiro elemento e o valor correspondente como o segundo elemento.\n",
    "\n",
    "Exemplo:\n"
   ]
  },
  {
   "cell_type": "code",
   "execution_count": 26,
   "id": "5474bcf3",
   "metadata": {},
   "outputs": [
    {
     "name": "stdout",
     "output_type": "stream",
     "text": [
      "Arroz : 2 Kg\n",
      "Feijão : 2 Kg\n",
      "Café : 5 pacotes\n",
      "Macarrão : 2 pacotes\n",
      "Biscoito : 5 pacotes\n",
      "Azeite : 1 litro\n",
      "Extrato Tomate : 2 pacotes\n"
     ]
    }
   ],
   "source": [
    "compras = {\n",
    "    \"Arroz\": \"2 Kg\",\n",
    "    \"Feijão\":\"2 Kg\",\n",
    "    \"Café\":\"5 pacotes\",\n",
    "    \"Macarrão\":\"2 pacotes\",\n",
    "    \"Biscoito\":\"5 pacotes\",\n",
    "    \"Azeite\":\"1 litro\",\n",
    "    \"Extrato Tomate\":\"2 pacotes\"}\n",
    "\n",
    "#Usando o método items()\n",
    "\n",
    "for key, value in compras.items():\n",
    "    print(key, \":\", value)"
   ]
  },
  {
   "cell_type": "markdown",
   "id": "36225d7f",
   "metadata": {},
   "source": [
    "### Existência key"
   ]
  },
  {
   "cell_type": "markdown",
   "id": "e49a4336",
   "metadata": {},
   "source": [
    "Você pode verificar a existência de uma chave em um dicionário usando a palavra-chave `in`.\n",
    "\n",
    "Exemplo"
   ]
  },
  {
   "cell_type": "code",
   "execution_count": 27,
   "id": "54cbbc90",
   "metadata": {},
   "outputs": [
    {
     "name": "stdout",
     "output_type": "stream",
     "text": [
      "Existe no dicionário.\n"
     ]
    }
   ],
   "source": [
    "compras = {\n",
    "    \"Arroz\": \"2 Kg\",\n",
    "    \"Feijão\":\"2 Kg\",\n",
    "    \"Café\":\"5 pacotes\",\n",
    "    \"Macarrão\":\"2 pacotes\",\n",
    "    \"Biscoito\":\"5 pacotes\",\n",
    "    \"Azeite\":\"1 litro\",\n",
    "    \"Extrato Tomate\":\"2 pacotes\"}\n",
    "\n",
    "if \"Café\" in compras:\n",
    "    print(\"Existe no dicionário.\")"
   ]
  },
  {
   "cell_type": "markdown",
   "id": "d0b16997",
   "metadata": {},
   "source": [
    "### Key()"
   ]
  },
  {
   "cell_type": "markdown",
   "id": "ea64b281",
   "metadata": {},
   "source": [
    "O método keys() é usado para obter uma visualização das chaves de um dicionário em Python. Ele retorna um objeto de visualização que contém todas as chaves do dicionário.\n",
    "\n",
    "Exemplo: "
   ]
  },
  {
   "cell_type": "code",
   "execution_count": 28,
   "id": "c2ebda95",
   "metadata": {},
   "outputs": [
    {
     "name": "stdout",
     "output_type": "stream",
     "text": [
      "Arroz\n",
      "Feijão\n",
      "Café\n",
      "Macarrão\n",
      "Biscoito\n",
      "Azeite\n",
      "Extrato Tomate\n"
     ]
    }
   ],
   "source": [
    "compras = {\n",
    "    \"Arroz\": \"2 Kg\",\n",
    "    \"Feijão\":\"2 Kg\",\n",
    "    \"Café\":\"5 pacotes\",\n",
    "    \"Macarrão\":\"2 pacotes\",\n",
    "    \"Biscoito\":\"5 pacotes\",\n",
    "    \"Azeite\":\"1 litro\",\n",
    "    \"Extrato Tomate\":\"2 pacotes\"}\n",
    "\n",
    "#Usando o método keys() para obter as chaves do dicionário\n",
    "\n",
    "keys = compras.keys()\n",
    "\n",
    "for key in keys:\n",
    "    print(key)\n",
    "    "
   ]
  },
  {
   "cell_type": "markdown",
   "id": "18a14546",
   "metadata": {},
   "source": [
    "### Update()"
   ]
  },
  {
   "cell_type": "markdown",
   "id": "e098a440",
   "metadata": {},
   "source": [
    "O método update() é usado para atualizar um dicionário com os pares chave-valor de outro dicionário ou de uma sequência de pares chave-valor. Ele adiciona as chaves e valores do dicionário ou sequência fornecida ao dicionário existente.\n",
    "\n",
    "Exemplo:"
   ]
  },
  {
   "cell_type": "code",
   "execution_count": 32,
   "id": "e0e729eb",
   "metadata": {},
   "outputs": [
    {
     "name": "stdout",
     "output_type": "stream",
     "text": [
      "{'Arroz': '2 Kg', 'Feijão': '2 Kg', 'Café': '5 pacotes', 'Macarrão': '2 pacotes', 'Biscoito': '5 pacotes', 'Azeite': '1 litro', 'Extrato Tomate': '2 pacotes', 'Verduras': 'Batata e Cenoura', 'Vinagre': 1, 'Pipoca': 'Um pacote', 'Farinha': '1 pacote'}\n"
     ]
    }
   ],
   "source": [
    "compras = {\n",
    "    \"Arroz\": \"2 Kg\",\n",
    "    \"Feijão\":\"2 Kg\",\n",
    "    \"Café\":\"5 pacotes\",\n",
    "    \"Macarrão\":\"2 pacotes\",\n",
    "    \"Biscoito\":\"5 pacotes\",\n",
    "    \"Azeite\":\"1 litro\",\n",
    "    \"Extrato Tomate\":\"2 pacotes\"}\n",
    "\n",
    "#Atualizando o dicionário com novos pares chave-valor\n",
    "compras.update({\"Verduras\": \"Batata e Cenoura\", \"Vinagre\":1,\n",
    "               \"Pipoca\": \"Um pacote\", \"Farinha\" : \"1 pacote\"})\n",
    "\n",
    "#Imprimindo o dicionário atualizado\n",
    "print(compras)"
   ]
  },
  {
   "cell_type": "markdown",
   "id": "b0780dfd",
   "metadata": {},
   "source": [
    "### Values()"
   ]
  },
  {
   "cell_type": "markdown",
   "id": "9de382b4",
   "metadata": {},
   "source": [
    "O método values() é usado para obter uma visualização dos valores de um dicionário em Python. Ele retorna um objeto de visualização que contém todos os valores do dicionário.\n",
    "\n",
    "Exemplo: "
   ]
  },
  {
   "cell_type": "code",
   "execution_count": 33,
   "id": "74daecf3",
   "metadata": {},
   "outputs": [
    {
     "name": "stdout",
     "output_type": "stream",
     "text": [
      "2 Kg\n",
      "2 Kg\n",
      "5 pacotes\n",
      "2 pacotes\n",
      "5 pacotes\n",
      "1 litro\n",
      "2 pacotes\n"
     ]
    }
   ],
   "source": [
    "compras = {\n",
    "    \"Arroz\": \"2 Kg\",\n",
    "    \"Feijão\":\"2 Kg\",\n",
    "    \"Café\":\"5 pacotes\",\n",
    "    \"Macarrão\":\"2 pacotes\",\n",
    "    \"Biscoito\":\"5 pacotes\",\n",
    "    \"Azeite\":\"1 litro\",\n",
    "    \"Extrato Tomate\":\"2 pacotes\"}\n",
    "\n",
    "#Usando o método values() para obter os valores do dicionário\n",
    "values = compras.values()\n",
    "\n",
    "#Imprimindo os valores do dicionário\n",
    "for value in values:\n",
    "    print(value)"
   ]
  },
  {
   "cell_type": "markdown",
   "id": "6f62d709",
   "metadata": {},
   "source": [
    "# Set "
   ]
  },
  {
   "cell_type": "markdown",
   "id": "a8b44ebd",
   "metadata": {},
   "source": [
    "Set (conjunto) é um tipo de coleção que armazena elementos únicos e não ordenados. Isso significa que um set não permite elementos duplicados e não mantém a ordem dos elementos inseridos.\n",
    "\n",
    "Exemplo:"
   ]
  },
  {
   "cell_type": "code",
   "execution_count": 51,
   "id": "555489dd",
   "metadata": {},
   "outputs": [
    {
     "name": "stdout",
     "output_type": "stream",
     "text": [
      "{'Biscoito', 'Café', '5 pacotes', '2 Kg', '1 litro', 'Feijão', '2 pacotes', 'Extrato Tomate', '2 pacotesArroz', 'Azeite', 'Arroz', 'Macarrão'}\n"
     ]
    }
   ],
   "source": [
    "compras = [\"Arroz\", \"2 Kg\",\n",
    "    \"Feijão\",\"2 Kg\",\n",
    "    \"Café\",\"5 pacotes\",\n",
    "    \"Macarrão\",\"2 pacotes\",\n",
    "    \"Biscoito\",\"5 pacotes\",\n",
    "    \"Azeite\",\"1 litro\",\n",
    "    \"Extrato Tomate\",\"2 pacotes\"\n",
    "    \"Arroz\", \"2 Kg\",\n",
    "    \"Feijão\",\"2 Kg\",\n",
    "    \"Café\",\"5 pacotes\",\n",
    "    \"Macarrão\",\"2 pacotes\",\n",
    "    \"Biscoito\",\"5 pacotes\",\n",
    "    \"Azeite\",\"1 litro\",\n",
    "    \"Extrato Tomate\",\"2 pacotes\"]\n",
    "conjunto = set(compras)\n",
    "print(conjunto)"
   ]
  },
  {
   "cell_type": "markdown",
   "id": "bd9f6a71",
   "metadata": {},
   "source": [
    "### Adicionar()"
   ]
  },
  {
   "cell_type": "markdown",
   "id": "477dd4ba",
   "metadata": {},
   "source": [
    "Elementos podem ser adicionados a um conjunto usando o método `add()`. As duplicatas são removidas automaticamente, pois os conjuntos armazenam apenas valores exclusivos.\n",
    "\n",
    "Exemplo:"
   ]
  },
  {
   "cell_type": "code",
   "execution_count": 52,
   "id": "2e4c58c0",
   "metadata": {},
   "outputs": [
    {
     "name": "stdout",
     "output_type": "stream",
     "text": [
      "{'banana', 'uva', 'maçã', 'laranja'}\n"
     ]
    }
   ],
   "source": [
    "frutas = {\"maçã\", \"banana\", \"laranja\"}\n",
    "frutas.add(\"uva\")\n",
    "frutas.add(\"maçã\")  \n",
    "\n",
    "# Não será adicionado novamente, pois \"maçã\" já está presente\n",
    "\n",
    "print(frutas)"
   ]
  },
  {
   "cell_type": "markdown",
   "id": "65c94713",
   "metadata": {},
   "source": [
    "### Clear()"
   ]
  },
  {
   "cell_type": "markdown",
   "id": "f52a7abc",
   "metadata": {},
   "source": [
    "O método clear() é usado para remover todos os elementos de um conjunto em Python. Ele esvazia o conjunto, deixando-o vazio.\n",
    "\n",
    "Exemplo: "
   ]
  },
  {
   "cell_type": "code",
   "execution_count": 53,
   "id": "e21582e7",
   "metadata": {},
   "outputs": [
    {
     "name": "stdout",
     "output_type": "stream",
     "text": [
      "set()\n"
     ]
    }
   ],
   "source": [
    "compras = {\"Arroz\", \"2 Kg\",\n",
    "    \"Feijão\",\"2 Kg\",\n",
    "    \"Café\",\"5 pacotes\",\n",
    "    \"Macarrão\",\"2 pacotes\",\n",
    "    \"Biscoito\",\"5 pacotes\",\n",
    "    \"Azeite\",\"1 litro\",\n",
    "    \"Extrato Tomate\",\"2 pacotes\"\n",
    "    \"Arroz\", \"2 Kg\",\n",
    "    \"Feijão\",\"2 Kg\",\n",
    "    \"Café\",\"5 pacotes\",\n",
    "    \"Macarrão\",\"2 pacotes\",\n",
    "    \"Biscoito\",\"5 pacotes\",\n",
    "    \"Azeite\",\"1 litro\",\n",
    "    \"Extrato Tomate\",\"2 pacotes\"}\n",
    "\n",
    "compras.clear()\n",
    "\n",
    "print(compras)"
   ]
  },
  {
   "cell_type": "markdown",
   "id": "5b7206ff",
   "metadata": {},
   "source": [
    "### Copy()"
   ]
  },
  {
   "cell_type": "markdown",
   "id": "768d96b9",
   "metadata": {},
   "source": [
    "O método copy() é usado para criar uma cópia superficial de um conjunto em Python. Ele retorna um novo conjunto que contém os mesmos elementos do conjunto original.\n",
    "\n",
    "Exemplo:"
   ]
  },
  {
   "cell_type": "code",
   "execution_count": 56,
   "id": "41400342",
   "metadata": {},
   "outputs": [
    {
     "name": "stdout",
     "output_type": "stream",
     "text": [
      "{'Feijão', 'Biscoito', 'Extrato Tomate', 'Café', 'Azeite', 'Arroz', 'Macarrão'}\n"
     ]
    }
   ],
   "source": [
    "compras = {\"Arroz\",\n",
    "    \"Feijão\",\n",
    "    \"Café\",\n",
    "    \"Macarrão\",\n",
    "    \"Biscoito\",\n",
    "    \"Azeite\",\n",
    "    \"Extrato Tomate\",\n",
    "    \"Arroz\", \n",
    "    \"Feijão\",\n",
    "    \"Café\",\n",
    "    \"Macarrão\",\n",
    "    \"Biscoito\",\n",
    "    \"Azeite\",\n",
    "    \"Extrato Tomate\",}\n",
    "\n",
    "copia_compras = compras.copy()\n",
    "print(copia_compras)"
   ]
  },
  {
   "cell_type": "markdown",
   "id": "7b4b7244",
   "metadata": {},
   "source": [
    "### Discard()"
   ]
  },
  {
   "cell_type": "markdown",
   "id": "c2008af5",
   "metadata": {},
   "source": [
    "O método discard() é um método em conjuntos (sets) em Python que remove um elemento específico do conjunto, se ele estiver presente. A diferença entre o método discard() e o método remove() é que o discard() não gera um erro se o elemento não estiver presente no conjunto, enquanto o remove() gera um erro.\n",
    "\n",
    "Exemplos:"
   ]
  },
  {
   "cell_type": "code",
   "execution_count": 57,
   "id": "358fd8f4",
   "metadata": {},
   "outputs": [
    {
     "name": "stdout",
     "output_type": "stream",
     "text": [
      "{'Feijão', 'Biscoito', 'Extrato Tomate', 'Café', 'Arroz', 'Macarrão'}\n"
     ]
    }
   ],
   "source": [
    "compras = {\"Arroz\",\n",
    "    \"Feijão\",\n",
    "    \"Café\",\n",
    "    \"Macarrão\",\n",
    "    \"Biscoito\",\n",
    "    \"Azeite\",\n",
    "    \"Extrato Tomate\",\n",
    "    \"Arroz\", \n",
    "    \"Feijão\",\n",
    "    \"Café\",\n",
    "    \"Macarrão\",\n",
    "    \"Biscoito\",\n",
    "    \"Azeite\",\n",
    "    \"Extrato Tomate\",}\n",
    "\n",
    "compras.discard(\"Azeite\")\n",
    "print(compras)"
   ]
  },
  {
   "cell_type": "markdown",
   "id": "8373e2b0",
   "metadata": {},
   "source": [
    "Se você tentar remover um elemento que não está presente no conjunto usando o método discard(), o conjunto permanecerá inalterado.\n",
    "\n",
    "Por exemplo:"
   ]
  },
  {
   "cell_type": "code",
   "execution_count": 58,
   "id": "fb4fc587",
   "metadata": {},
   "outputs": [
    {
     "name": "stdout",
     "output_type": "stream",
     "text": [
      "{'Feijão', 'Biscoito', 'Extrato Tomate', 'Café', 'Azeite', 'Arroz', 'Macarrão'}\n"
     ]
    }
   ],
   "source": [
    "compras = {\"Arroz\",\n",
    "    \"Feijão\",\n",
    "    \"Café\",\n",
    "    \"Macarrão\",\n",
    "    \"Biscoito\",\n",
    "    \"Azeite\",\n",
    "    \"Extrato Tomate\",\n",
    "    \"Arroz\", \n",
    "    \"Feijão\",\n",
    "    \"Café\",\n",
    "    \"Macarrão\",\n",
    "    \"Biscoito\",\n",
    "    \"Azeite\",\n",
    "    \"Extrato Tomate\",}\n",
    "\n",
    "compras.discard(\"Fruta\")\n",
    "print(compras)"
   ]
  },
  {
   "cell_type": "markdown",
   "id": "2488c6cb",
   "metadata": {},
   "source": [
    "\n"
   ]
  },
  {
   "cell_type": "markdown",
   "id": "43a54e39",
   "metadata": {},
   "source": [
    "### Issubset()"
   ]
  },
  {
   "cell_type": "markdown",
   "id": "36ec6753",
   "metadata": {},
   "source": [
    "O método issubset() é um método em conjuntos (sets) em Python que verifica se um conjunto é um subconjunto de outro conjunto. Ele retorna True se todos os elementos do conjunto estiverem presentes no outro conjunto e False caso contrário.\n",
    "\n",
    "Exemplo:"
   ]
  },
  {
   "cell_type": "code",
   "execution_count": 62,
   "id": "8eb6e21c",
   "metadata": {},
   "outputs": [
    {
     "name": "stdout",
     "output_type": "stream",
     "text": [
      "False\n"
     ]
    }
   ],
   "source": [
    "notas1 = {60,52,96,62,45,70}\n",
    "notas2 = {64,60,75,68,80,84}\n",
    "resultado= notas1.issubset(notas2)\n",
    "print(resultado)"
   ]
  },
  {
   "cell_type": "code",
   "execution_count": 64,
   "id": "8c2a6a3c",
   "metadata": {},
   "outputs": [
    {
     "name": "stdout",
     "output_type": "stream",
     "text": [
      "True\n"
     ]
    }
   ],
   "source": [
    "notas1 = {60,62,45,70}\n",
    "notas2 = {62,60,70,62,45}\n",
    "resultado= notas1.issubset(notas2)\n",
    "print(resultado)"
   ]
  },
  {
   "cell_type": "markdown",
   "id": "750fd9c3",
   "metadata": {},
   "source": [
    "### Issuperset()"
   ]
  },
  {
   "cell_type": "markdown",
   "id": "c4544ce2",
   "metadata": {},
   "source": [
    "O método `issuperset()` verifica se o conjunto atual é um superconjunto de outro conjunto. Retorna True se todos os elementos do outro conjunto estiverem presentes no conjunto atual, caso contrário, False.\n",
    "\n",
    "Exemplo: "
   ]
  },
  {
   "cell_type": "code",
   "execution_count": 65,
   "id": "c81f61d8",
   "metadata": {},
   "outputs": [
    {
     "name": "stdout",
     "output_type": "stream",
     "text": [
      "False\n"
     ]
    }
   ],
   "source": [
    "notas1 = {60,52,96,62,45,70}\n",
    "notas2 = {64,60,75,68,80,84}\n",
    "resultado= notas1.issuperset(notas2)\n",
    "print(resultado)\n"
   ]
  },
  {
   "cell_type": "code",
   "execution_count": 67,
   "id": "39077570",
   "metadata": {},
   "outputs": [
    {
     "name": "stdout",
     "output_type": "stream",
     "text": [
      "True\n"
     ]
    }
   ],
   "source": [
    "notas1 = {62,60,70,62,45}\n",
    "notas2 = {60,62,45,70}\n",
    "resultado= notas1.issuperset(notas2)\n",
    "print(resultado)"
   ]
  },
  {
   "cell_type": "markdown",
   "id": "e6ecbeca",
   "metadata": {},
   "source": [
    "### Set Operations"
   ]
  },
  {
   "cell_type": "markdown",
   "id": "ca192193",
   "metadata": {},
   "source": [
    "### União (union() ou |): Retorna um novo conjunto contendo todos os elementos presentes em ambos os conjuntos.\n",
    "    \n",
    "    Exemplo:"
   ]
  },
  {
   "cell_type": "code",
   "execution_count": 70,
   "id": "ea17ea1c",
   "metadata": {},
   "outputs": [
    {
     "name": "stdout",
     "output_type": "stream",
     "text": [
      "{96, 64, 68, 70, 75, 45, 80, 52, 84, 60, 62}\n"
     ]
    }
   ],
   "source": [
    "notas1 = {60,52,96,62,45,70}\n",
    "notas2 = {64,60,75,68,80,84}\n",
    "uniao = notas1.union(notas2)\n",
    "print(uniao)"
   ]
  },
  {
   "cell_type": "markdown",
   "id": "63bc4257",
   "metadata": {},
   "source": [
    "### Interseção (intersection() ou &): Retorna um novo conjunto contendo apenas os elementos presentes em ambos os conjuntos.\n",
    "    \n",
    "    Exemplo:"
   ]
  },
  {
   "cell_type": "code",
   "execution_count": 72,
   "id": "61ad5cfc",
   "metadata": {},
   "outputs": [
    {
     "name": "stdout",
     "output_type": "stream",
     "text": [
      "{60}\n"
     ]
    }
   ],
   "source": [
    "notas1 = {60,52,96,62,45,70}\n",
    "notas2 = {64,60,75,68,80,84}\n",
    "intersecao = notas1.intersection(notas2)\n",
    "print(intersecao)"
   ]
  },
  {
   "cell_type": "markdown",
   "id": "f5d5e3ca",
   "metadata": {},
   "source": [
    "### Diferença (difference() ou -): Retorna um novo conjunto contendo os elementos presentes no primeiro conjunto, mas não no segundo conjunto."
   ]
  },
  {
   "cell_type": "code",
   "execution_count": 76,
   "id": "b50c9a7d",
   "metadata": {},
   "outputs": [
    {
     "name": "stdout",
     "output_type": "stream",
     "text": [
      "{64, 68, 70, 45, 80, 84, 62}\n"
     ]
    }
   ],
   "source": [
    "notas1 = {60,52,96,62,45,70,75,52}\n",
    "notas2 = {64,60,75,68,80,84,52,96}\n",
    "diferenca_simetrica = notas1.symmetric_difference(notas2)\n",
    "print(diferenca_simetrica)"
   ]
  },
  {
   "cell_type": "code",
   "execution_count": null,
   "id": "2dc8d6f4",
   "metadata": {},
   "outputs": [],
   "source": []
  },
  {
   "cell_type": "code",
   "execution_count": null,
   "id": "090817fb",
   "metadata": {},
   "outputs": [],
   "source": []
  }
 ],
 "metadata": {
  "kernelspec": {
   "display_name": "Python 3 (ipykernel)",
   "language": "python",
   "name": "python3"
  },
  "language_info": {
   "codemirror_mode": {
    "name": "ipython",
    "version": 3
   },
   "file_extension": ".py",
   "mimetype": "text/x-python",
   "name": "python",
   "nbconvert_exporter": "python",
   "pygments_lexer": "ipython3",
   "version": "3.11.5"
  }
 },
 "nbformat": 4,
 "nbformat_minor": 5
}
{
 "cells": [
  {
   "cell_type": "markdown",
   "id": "28cccde7",
   "metadata": {},
   "source": [
    "# Folha de dicas"}
